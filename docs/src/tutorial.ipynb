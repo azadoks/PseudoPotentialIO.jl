{
 "cells": [
  {
   "cell_type": "markdown",
   "source": [
    "# Tutorial\n",
    "\n",
    "Here, we'll take a look at the basic usage of PseudoPotentialIO.jl: searching for, loading, and investigating the contents of pseudopotentials."
   ],
   "metadata": {}
  },
  {
   "outputs": [],
   "cell_type": "code",
   "source": [
    "using PseudoPotentialIO\n",
    "using CairoMakie\n",
    "using Colors"
   ],
   "metadata": {},
   "execution_count": null
  },
  {
   "cell_type": "markdown",
   "source": [
    "## 1. Searching for pseudopotentials\n",
    "PseudoPotentialIO provides easy access to a variety of pseudopotential families with zero setup using Julia [Artifacts](https://docs.julialang.org/en/v1/stdlib/Artifacts/), [LazyArtifacts.jl](https://github.com/JuliaPackaging/LazyArtifacts.jl), and [PseudoLibrary](https://github.com/JuliaMolSim/PseudoLibrary).\n",
    "In order to list the available pre-bundled families, use `list_families`"
   ],
   "metadata": {}
  },
  {
   "outputs": [],
   "cell_type": "code",
   "source": [
    "list_families(with_info=true)"
   ],
   "metadata": {},
   "execution_count": null
  },
  {
   "cell_type": "markdown",
   "source": [
    "Because families are downloaded lazily, detailed information on some of the families is missing (they need to be downloaded first).\n",
    "In order to download a pseudopotential family, you can load it using `load_family`.\n",
    "\n",
    "!!! note \"Loading pseudopotential families\"\n",
    "    `load_family` can also load all the pseudopotentials in a local directory!\n",
    "\n",
    "You can then see an overview of which elements the family supports with `show_family_periodic_table`."
   ],
   "metadata": {}
  },
  {
   "outputs": [],
   "cell_type": "code",
   "source": [
    "family = load_family(\"hgh_lda_upf\");\n",
    "show_family_periodic_table(family)"
   ],
   "metadata": {},
   "execution_count": null
  },
  {
   "cell_type": "markdown",
   "source": [
    "For more detailed information, use `show_family_list`.\n",
    "You can restrict the output by providing a list of elements that you're interested in."
   ],
   "metadata": {}
  },
  {
   "outputs": [],
   "cell_type": "code",
   "source": [
    "show_family_list(family)  # Show all the pseudopotentials\n",
    "show_family_list(family; elements=[\"Ba\", \"Ti\", \"O\"])  # Only show the pseudos for Ba, Ti, and O"
   ],
   "metadata": {},
   "execution_count": null
  },
  {
   "cell_type": "markdown",
   "source": [
    "## 2. Loading pseudopotential files\n",
    "To load an individual pseudopotential _file_, use `load_psp_file`, specifying the family name or directory and the filename of the pseudopotential"
   ],
   "metadata": {}
  },
  {
   "outputs": [],
   "cell_type": "code",
   "source": [
    "Ba_psp_file = load_psp_file(\"hgh_lda_upf\", \"Ba.pz-sp-hgh.UPF\")"
   ],
   "metadata": {},
   "execution_count": null
  },
  {
   "cell_type": "markdown",
   "source": [
    "PseudoPotentialIO distinguishes between pseudopotential _files_ and the pseudopotentials themselves.\n",
    "Structures like `HghFile`, `UpfFile`, and `Psp8File` correspond to pseudopotential file formats and make the quantities that these files contain directly available, with no unit conversion or processing.\n",
    "For example, we can take a look at the author field from the header in the barium UPF pseudopotential we just loaded"
   ],
   "metadata": {}
  },
  {
   "outputs": [],
   "cell_type": "code",
   "source": [
    "Ba_psp_file.header.author"
   ],
   "metadata": {},
   "execution_count": null
  },
  {
   "cell_type": "markdown",
   "source": [
    "We can also check that the properties of Ba_psp_file match up with the sections of a UPF file"
   ],
   "metadata": {}
  },
  {
   "outputs": [],
   "cell_type": "code",
   "source": [
    "propertynames(Ba_psp_file)"
   ],
   "metadata": {},
   "execution_count": null
  },
  {
   "cell_type": "markdown",
   "source": [
    "## 3. Loading pseudopotentials\n",
    "Once you've decided that you would like to use a given pseudopotential for a calculation, either convert its `PsPFile` struct a corresponding pseudopotential structure"
   ],
   "metadata": {}
  },
  {
   "outputs": [],
   "cell_type": "code",
   "source": [
    "Ba_psp_from_File = load_psp(Ba_psp_file)"
   ],
   "metadata": {},
   "execution_count": null
  },
  {
   "cell_type": "markdown",
   "source": [
    ", or load the pseudopotential structure directly from the file using `load_psp`"
   ],
   "metadata": {}
  },
  {
   "outputs": [],
   "cell_type": "code",
   "source": [
    "Ba_psp_from_disk = load_psp(\"hgh_lda_upf\", \"Ba.pz-sp-hgh.UPF\")"
   ],
   "metadata": {},
   "execution_count": null
  },
  {
   "cell_type": "markdown",
   "source": [
    "We can confirm that these pseudopotentials are identical"
   ],
   "metadata": {}
  },
  {
   "outputs": [],
   "cell_type": "code",
   "source": [
    "Ba_psp_from_File == Ba_psp_from_disk"
   ],
   "metadata": {},
   "execution_count": null
  },
  {
   "cell_type": "markdown",
   "source": [
    "This procedure has processed the contents of the UPF file (on disk) or the `UpfFile` struct into a common and consistent data representation that PseudoPotentialIO uses for calculations. We can see that the contents have changed by looking at the property names of our new `UpfPsP` struct"
   ],
   "metadata": {}
  },
  {
   "outputs": [],
   "cell_type": "code",
   "source": [
    "propertynames(Ba_psp_from_disk)"
   ],
   "metadata": {},
   "execution_count": null
  },
  {
   "cell_type": "markdown",
   "source": [
    "## 4. Inspecting pseudopotential quantities\n",
    "One thing that we might want to do with a processed pseudopotential is to visualize some of the quantities it contains.\n",
    "Let's plot the Kleinman-Bylander projectors from a PseudoDojo barium pseudopotential"
   ],
   "metadata": {}
  },
  {
   "outputs": [],
   "cell_type": "code",
   "source": [
    "Ba_psp = load_psp(\"pd_nc_sr_pbesol_standard_0.4.1_upf\", \"Ba.upf\");\n",
    "let\n",
    "    linestyles = [:solid, :dash, :dot]\n",
    "    colors = Colors.JULIA_LOGO_COLORS\n",
    "    fig = Figure(); ax = Axis(fig[1,1], xlabel=\"r [a₀]\", ylabel=\"β(r)\")\n",
    "    for l in angular_momenta(Ba_psp)                  # Iterate over each angular momentum 0:lmax\n",
    "        color = colors[l+1]\n",
    "        for n in projector_radial_indices(Ba_psp, l)  # Iterate over each projector at l 1:nmax\n",
    "            linestyle = linestyles[n]\n",
    "            r²βln = Ba_psp.β[l][n]                    # Projector multiplied by r²\n",
    "            i_rc_ln = lastindex(r²βln)                # Cutoff radius index\n",
    "            βln = r²βln ./ Ba_psp.r[1:i_rc_ln].^2     # Remove the r² prefactor\n",
    "            lines!(ax, Ba_psp.r[1:i_rc_ln], βln, label=\"|β[$l][$n]⟩\",\n",
    "                   linestyle=linestyle, color=color)\n",
    "        end\n",
    "    end\n",
    "    axislegend()\n",
    "    fig\n",
    "end"
   ],
   "metadata": {},
   "execution_count": null
  }
 ],
 "nbformat_minor": 3,
 "metadata": {
  "language_info": {
   "file_extension": ".jl",
   "mimetype": "application/julia",
   "name": "julia",
   "version": "1.9.0-rc1"
  },
  "kernelspec": {
   "name": "julia-1.9",
   "display_name": "Julia 1.9.0-rc1",
   "language": "julia"
  }
 },
 "nbformat": 4
}
